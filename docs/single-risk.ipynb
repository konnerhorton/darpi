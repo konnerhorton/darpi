{
 "cells": [
  {
   "cell_type": "markdown",
   "metadata": {},
   "source": [
    "# Single Risk\n",
    "\n",
    "Determine non-exceedence probabilities for a single risk.\n",
    "\n",
    "## Import libraries"
   ]
  },
  {
   "cell_type": "code",
   "execution_count": 1,
   "metadata": {},
   "outputs": [],
   "source": [
    "import sys\n",
    "import os\n",
    "\n",
    "import pandas as pd\n",
    "\n",
    "# Add the root_dir to the path so `darpi` can be imported\n",
    "root_dir = os.path.abspath(os.path.join(os.getcwd(), \"..\"))\n",
    "\n",
    "if root_dir not in sys.path:\n",
    "    sys.path.append(root_dir)\n",
    "from darpi.plots import plot_histogram_and_cdf, plot_ppf_curve\n",
    "\n",
    "\n",
    "from darpi.probability import (\n",
    "    get_histogram_data,\n",
    "    get_samples,\n",
    "    get_triangular_distribution,\n",
    "    get_empirical_cdf,\n",
    "    get_empirical_ppf,\n",
    "    sum_samples,\n",
    ")\n",
    "from darpi.tables import get_non_exceedance_table"
   ]
  },
  {
   "cell_type": "markdown",
   "metadata": {},
   "source": [
    "## Generate probability of non-exceedance charts for one risk"
   ]
  },
  {
   "cell_type": "code",
   "execution_count": 2,
   "metadata": {},
   "outputs": [],
   "source": [
    "# Identify the risk, cost, and probability of occurrence\n",
    "risk = \"Risk 1\"\n",
    "costs = (1000, 2000, 5000)\n",
    "probability = 0.6\n",
    "\n",
    "# Generate the triangular distribution that corresponds with the risk above\n",
    "distribution = get_triangular_distribution(a=costs[0], b=costs[2], c=costs[1])\n",
    "\n",
    "# Generate the samples (the default is n==100,000)\n",
    "data = get_samples(distribution=distribution, risk_probability=probability)\n",
    "\n",
    "# Get plotting data\n",
    "hist_data = get_histogram_data(data)\n",
    "cdf_data = get_empirical_cdf(data)\n",
    "ppf_data = get_empirical_ppf(data)\n",
    "\n",
    "# Make some plots\n",
    "fig = plot_histogram_and_cdf(hist_data=hist_data, cdf_data=cdf_data)\n",
    "fig.write_image(\"images/single-risk-histogram_cdf.png\")\n",
    "fig = plot_ppf_curve(data=ppf_data)\n",
    "fig.write_image(\"images/single-risk-ppf.png\")"
   ]
  },
  {
   "cell_type": "markdown",
   "metadata": {},
   "source": [
    "![histogram_cdf](images/single-risk-histogram_cdf.png)\n",
    "![ppf](images/single-risk-ppf.png)\n"
   ]
  },
  {
   "cell_type": "markdown",
   "metadata": {},
   "source": [
    "## Generate probability of non-exceedance table for one risk"
   ]
  },
  {
   "cell_type": "code",
   "execution_count": 3,
   "metadata": {},
   "outputs": [
    {
     "data": {
      "text/html": [
       "<div>\n",
       "<style scoped>\n",
       "    .dataframe tbody tr th:only-of-type {\n",
       "        vertical-align: middle;\n",
       "    }\n",
       "\n",
       "    .dataframe tbody tr th {\n",
       "        vertical-align: top;\n",
       "    }\n",
       "\n",
       "    .dataframe thead th {\n",
       "        text-align: right;\n",
       "    }\n",
       "</style>\n",
       "<table border=\"1\" class=\"dataframe\">\n",
       "  <thead>\n",
       "    <tr style=\"text-align: right;\">\n",
       "      <th></th>\n",
       "      <th>cost</th>\n",
       "      <th>p</th>\n",
       "    </tr>\n",
       "  </thead>\n",
       "  <tbody>\n",
       "    <tr>\n",
       "      <th>0</th>\n",
       "      <td>0.00</td>\n",
       "      <td>0.00</td>\n",
       "    </tr>\n",
       "    <tr>\n",
       "      <th>1</th>\n",
       "      <td>0.00</td>\n",
       "      <td>0.01</td>\n",
       "    </tr>\n",
       "    <tr>\n",
       "      <th>2</th>\n",
       "      <td>0.00</td>\n",
       "      <td>0.02</td>\n",
       "    </tr>\n",
       "    <tr>\n",
       "      <th>3</th>\n",
       "      <td>0.00</td>\n",
       "      <td>0.03</td>\n",
       "    </tr>\n",
       "    <tr>\n",
       "      <th>4</th>\n",
       "      <td>0.00</td>\n",
       "      <td>0.04</td>\n",
       "    </tr>\n",
       "    <tr>\n",
       "      <th>...</th>\n",
       "      <td>...</td>\n",
       "      <td>...</td>\n",
       "    </tr>\n",
       "    <tr>\n",
       "      <th>96</th>\n",
       "      <td>4099.50</td>\n",
       "      <td>0.96</td>\n",
       "    </tr>\n",
       "    <tr>\n",
       "      <th>97</th>\n",
       "      <td>4221.69</td>\n",
       "      <td>0.97</td>\n",
       "    </tr>\n",
       "    <tr>\n",
       "      <th>98</th>\n",
       "      <td>4370.85</td>\n",
       "      <td>0.98</td>\n",
       "    </tr>\n",
       "    <tr>\n",
       "      <th>99</th>\n",
       "      <td>4558.08</td>\n",
       "      <td>0.99</td>\n",
       "    </tr>\n",
       "    <tr>\n",
       "      <th>100</th>\n",
       "      <td>4993.01</td>\n",
       "      <td>1.00</td>\n",
       "    </tr>\n",
       "  </tbody>\n",
       "</table>\n",
       "<p>101 rows × 2 columns</p>\n",
       "</div>"
      ],
      "text/plain": [
       "        cost     p\n",
       "0       0.00  0.00\n",
       "1       0.00  0.01\n",
       "2       0.00  0.02\n",
       "3       0.00  0.03\n",
       "4       0.00  0.04\n",
       "..       ...   ...\n",
       "96   4099.50  0.96\n",
       "97   4221.69  0.97\n",
       "98   4370.85  0.98\n",
       "99   4558.08  0.99\n",
       "100  4993.01  1.00\n",
       "\n",
       "[101 rows x 2 columns]"
      ]
     },
     "execution_count": 3,
     "metadata": {},
     "output_type": "execute_result"
    }
   ],
   "source": [
    "get_non_exceedance_table(data).round(2)"
   ]
  }
 ],
 "metadata": {
  "kernelspec": {
   "display_name": "darpi",
   "language": "python",
   "name": "python3"
  },
  "language_info": {
   "codemirror_mode": {
    "name": "ipython",
    "version": 3
   },
   "file_extension": ".py",
   "mimetype": "text/x-python",
   "name": "python",
   "nbconvert_exporter": "python",
   "pygments_lexer": "ipython3",
   "version": "3.12.4"
  }
 },
 "nbformat": 4,
 "nbformat_minor": 2
}
