{
 "cells": [
  {
   "cell_type": "code",
   "execution_count": null,
   "metadata": {},
   "outputs": [],
   "source": [
    "# import importlib\n",
    "# import os\n",
    "\n",
    "# import sys\n",
    "# import numpy as np\n",
    "# import plotly.graph_objects as go\n",
    "\n",
    "# # Add the root_dir to the path so `darpi` can be imported\n",
    "# root_dir = os.path.abspath(os.path.join(os.getcwd(), \"..\"))\n",
    "\n",
    "# if root_dir not in sys.path:\n",
    "#     sys.path.append(root_dir)\n",
    "\n",
    "# # Import `darpi` modules\n",
    "# import darpi.config\n",
    "# import darpi.qualitative\n",
    "# import darpi.quantitative\n",
    "\n",
    "# # Reload the `darpi` modules when running the jupyter notebook\n",
    "# # This allows you to not restart the kernel\n",
    "# importlib.reload(darpi.quantitative)\n",
    "# importlib.reload(darpi.config)\n",
    "# importlib.reload(darpi.quantitative)\n",
    "from IPython.display import HTML, display\n",
    "from darpi.qualitative.plots import plot_empty_heat_map, add_scatter_to_heat_map\n",
    "import numpy as np\n",
    "\n",
    "import random\n",
    "import pandas as pd\n",
    "\n",
    "\n",
    "def generate_risks(num_risks=20):\n",
    "    risks = []\n",
    "    for i in range(num_risks):\n",
    "        risk = {\n",
    "            \"risk-id\": f\"R-{int(i + 1):03}\",\n",
    "            \"probability\": random.randint(1, 5),\n",
    "            \"schedule\": random.randint(1, 5),\n",
    "            \"cost\": random.randint(1, 5),\n",
    "        }\n",
    "        risks.append(risk)\n",
    "    return risks\n",
    "\n",
    "\n",
    "risks = generate_risks()\n",
    "df = pd.DataFrame(risks)\n",
    "df[\"impact\"] = df[[\"schedule\", \"cost\"]].max(axis=1)\n",
    "df[\"risk-score\"] = df[\"probability\"] * df[\"impact\"]\n",
    "print(df.to_markdown(index=False))"
   ]
  },
  {
   "cell_type": "code",
   "execution_count": null,
   "metadata": {},
   "outputs": [],
   "source": [
    "# Group by unique combinations of probability and impact\n",
    "df = (\n",
    "    df[[\"risk-id\", \"probability\", \"impact\"]]\n",
    "    .groupby([\"probability\", \"impact\"])\n",
    "    .agg(\"count\")\n",
    "    .reset_index()\n",
    "    .rename(columns={\"risk-id\": \"counts\"})\n",
    ")\n",
    "print(df.to_markdown(index=False))"
   ]
  },
  {
   "cell_type": "code",
   "execution_count": null,
   "metadata": {},
   "outputs": [],
   "source": [
    "# Then send it to a python dictionary\n",
    "risks = df.to_dict(\"records\")\n",
    "risks"
   ]
  },
  {
   "cell_type": "code",
   "execution_count": null,
   "metadata": {},
   "outputs": [],
   "source": [
    "# Now generate the heatmap\n",
    "# plot_empty_heat_map()\n",
    "fig = add_scatter_to_heat_map(risks, \"Some risks on a heatmap\")\n",
    "fig.write_image(\"heat-map.png\")\n",
    "fig.show()"
   ]
  }
 ],
 "metadata": {
  "kernelspec": {
   "display_name": "darpi",
   "language": "python",
   "name": "python3"
  },
  "language_info": {
   "codemirror_mode": {
    "name": "ipython",
    "version": 3
   },
   "file_extension": ".py",
   "mimetype": "text/x-python",
   "name": "python",
   "nbconvert_exporter": "python",
   "pygments_lexer": "ipython3",
   "version": "3.12.4"
  }
 },
 "nbformat": 4,
 "nbformat_minor": 2
}
