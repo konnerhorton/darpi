{
 "cells": [
  {
   "cell_type": "markdown",
   "metadata": {},
   "source": [
    "# Single Risk\n",
    "\n",
    "Determine non-exceedence probabilities for a single risk.\n",
    "\n",
    "## Import libraries"
   ]
  },
  {
   "cell_type": "code",
   "execution_count": null,
   "metadata": {},
   "outputs": [],
   "source": [
    "import sys\n",
    "import os\n",
    "\n",
    "import pandas as pd\n",
    "\n",
    "# Add the root_dir to the path so `darpi` can be imported\n",
    "root_dir = os.path.abspath(os.path.join(os.getcwd(), \"..\"))\n",
    "\n",
    "if root_dir not in sys.path:\n",
    "    sys.path.append(root_dir)\n",
    "from darpi.plots import plot_histogram_and_cdf, plot_ppf_curve\n",
    "\n",
    "\n",
    "from darpi.probability import (\n",
    "    get_histogram_data,\n",
    "    get_samples,\n",
    "    get_triangular_distribution,\n",
    "    get_empirical_cdf,\n",
    "    get_empirical_ppf,\n",
    "    sum_samples,\n",
    ")\n",
    "from darpi.tables import get_non_exceedance_table"
   ]
  },
  {
   "cell_type": "markdown",
   "metadata": {},
   "source": [
    "## Generate probability of non-exceedance charts for one risk"
   ]
  },
  {
   "cell_type": "code",
   "execution_count": null,
   "metadata": {},
   "outputs": [],
   "source": [
    "# Identify the risk, cost, and probability of occurrence\n",
    "risk = \"Risk 1\"\n",
    "costs = (1000, 2000, 5000)\n",
    "probability = 0.6\n",
    "\n",
    "# Generate the triangular distribution that corresponds with the risk above\n",
    "distribution = get_triangular_distribution(a=costs[0], b=costs[2], c=costs[1])\n",
    "\n",
    "# Generate the samples (the default is n==100,000)\n",
    "data = get_samples(distribution=distribution, risk_probability=probability)\n",
    "\n",
    "# Get plotting data\n",
    "hist_data = get_histogram_data(data)\n",
    "cdf_data = get_empirical_cdf(data)\n",
    "ppf_data = get_empirical_ppf(data)\n",
    "\n",
    "# Make some plots\n",
    "fig = plot_histogram_and_cdf(hist_data=hist_data, cdf_data=cdf_data)\n",
    "fig.write_image(\"images/single-risk-histogram_cdf.png\")\n",
    "fig = plot_ppf_curve(data=ppf_data)\n",
    "fig.write_image(\"images/single-risk-ppf.png\")"
   ]
  },
  {
   "cell_type": "markdown",
   "metadata": {},
   "source": [
    "![histogram_cdf](images/single-risk-histogram_cdf.png)\n",
    "![ppf](images/single-risk-ppf.png)\n"
   ]
  },
  {
   "cell_type": "markdown",
   "metadata": {},
   "source": [
    "## Generate probability of non-exceedance table for one risk"
   ]
  },
  {
   "cell_type": "code",
   "execution_count": null,
   "metadata": {},
   "outputs": [],
   "source": [
    "get_non_exceedance_table(data).round(2)"
   ]
  }
 ],
 "metadata": {
  "kernelspec": {
   "display_name": "darpi",
   "language": "python",
   "name": "python3"
  },
  "language_info": {
   "codemirror_mode": {
    "name": "ipython",
    "version": 3
   },
   "file_extension": ".py",
   "mimetype": "text/x-python",
   "name": "python",
   "nbconvert_exporter": "python",
   "pygments_lexer": "ipython3",
   "version": "3.12.4"
  }
 },
 "nbformat": 4,
 "nbformat_minor": 2
}
